{
 "cells": [
  {
   "cell_type": "markdown",
   "metadata": {},
   "source": [
    "# Finding coordinates of a vector given its magnitude (r)  and direction (degrees)"
   ]
  },
  {
   "cell_type": "code",
   "execution_count": null,
   "metadata": {},
   "outputs": [],
   "source": [
    "# Importing essential functions; \n",
    "from math import sin, cos, radians, degrees, atan\n",
    "from numpy import array"
   ]
  },
  {
   "cell_type": "code",
   "execution_count": 19,
   "metadata": {},
   "outputs": [],
   "source": [
    "def coordinates(r, degrees):\n",
    "    # Determining the quadrant;\n",
    "    Q = degrees // 90 \n",
    "\n",
    "    #Finding a angle in radians for a quadrant, where the vector points to; \n",
    "    degrees = radians(degrees - Q * 90) \n",
    "\n",
    "    # Checking for a quadrant and calculating according coordinates;\n",
    "    if Q == 0:\n",
    "        x = r * cos(degrees)\n",
    "        y = r * sin(degrees)\n",
    "    if Q == 1:\n",
    "        x = -1 * r * sin(degrees)\n",
    "        y = r * cos(degrees)\n",
    "    if Q == 2:\n",
    "        x = -1 * r * cos(degrees)\n",
    "        y = -1 * r * sin(degrees)\n",
    "    if Q == 3: \n",
    "        x = r * sin(degrees)\n",
    "        y = -1 * r * cos(degrees)\n",
    "    \n",
    "    # Rounding values;\n",
    "    x = round(x, 2)\n",
    "    y = round(y, 2)\n",
    "\n",
    "    # Returning the answer;\n",
    "    return(array([x,y]))"
   ]
  },
  {
   "cell_type": "code",
   "execution_count": 78,
   "metadata": {},
   "outputs": [],
   "source": [
    "# Function for the calculation of a vector's magnitude;\n",
    "def magnitude(np_arr):\n",
    "    return round(sum(np_arr**2)**(0.5), 2)\n",
    "\n",
    "# Function for the calculation of a vector's angle;\n",
    "def angle(np_arr):\n",
    "    x = np_arr[0]\n",
    "    y = np_arr[1]\n",
    "    \n",
    "    output = degrees(atan(y / x))\n",
    "    if x < 0 and y > 0:\n",
    "        output = 180 + output\n",
    "    if x < 0 and y < 0:\n",
    "        output = 180 + output\n",
    "    if x > 0 and y < 0:\n",
    "        output = 360 + output\n",
    "        \n",
    "    return round(output, 2)"
   ]
  },
  {
   "cell_type": "code",
   "execution_count": 126,
   "metadata": {},
   "outputs": [
    {
     "name": "stdout",
     "output_type": "stream",
     "text": [
      "[-4.92  0.87] [ 4.   -6.93] [-0.92 -6.06] 6.13 261.37\n"
     ]
    }
   ],
   "source": [
    "v = coordinates(5, 170)\n",
    "w = coordinates(8, 300)\n",
    "vw = w + v\n",
    "\n",
    "print(v, w, vw, magnitude(vw), angle(vw))"
   ]
  },
  {
   "cell_type": "code",
   "execution_count": 127,
   "metadata": {},
   "outputs": [
    {
     "name": "stdout",
     "output_type": "stream",
     "text": [
      "7.28 164.05\n"
     ]
    }
   ],
   "source": [
    "ar = array([-7, 2])\n",
    "print(magnitude(ar), angle(ar))"
   ]
  }
 ],
 "metadata": {
  "kernelspec": {
   "display_name": "Python 3",
   "language": "python",
   "name": "python3"
  },
  "language_info": {
   "codemirror_mode": {
    "name": "ipython",
    "version": 3
   },
   "file_extension": ".py",
   "mimetype": "text/x-python",
   "name": "python",
   "nbconvert_exporter": "python",
   "pygments_lexer": "ipython3",
   "version": "3.10.6 (main, Nov 14 2022, 16:10:14) [GCC 11.3.0]"
  },
  "vscode": {
   "interpreter": {
    "hash": "916dbcbb3f70747c44a77c7bcd40155683ae19c65e1c03b4aa3499c5328201f1"
   }
  }
 },
 "nbformat": 4,
 "nbformat_minor": 4
}
