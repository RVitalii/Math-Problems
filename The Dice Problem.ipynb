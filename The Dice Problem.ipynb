{
 "cells": [
  {
   "cell_type": "markdown",
   "metadata": {},
   "source": [
    "# The Dice Problem \n",
    "## Problem: \n",
    "Suppose we throw a well-balanced dice $n$ times. What is the probability of getting six pips at least once in $n$ trials? \n",
    "## Solution:\n",
    "Let us define first a sample space \n",
    "\\begin{equation}\n",
    "\\Omega = \\{1,2,3,4,5,6\\},\n",
    "\\end{equation}\n",
    "where every number represents a possible outcome of a trial. The problem can be solved directly with brute force when we build a probability tree and deduce a long equation. However, the aforementioned method leads to the elegant result, that can be explained with a simple property of probability measure, \n",
    "\\begin{equation}\n",
    "P(A) = 1 - P(A^c),\n",
    "\\end{equation}\n",
    "where $A$ is an event defined on some probability space, and $A^c$ is a complement of $A$. \n",
    "\n",
    "Now let $S$ be an event of getting any number of pips except six in $n$ tosses. Thus, the probability of getting at least once six pips in one toss is \n",
    "\\begin{align}\n",
    "P(S|n=1) &= 1 - P(S^c|n=1), \\\\\n",
    "         &= 1 - \\frac{5}{6}, \\\\\n",
    "         &= \\frac{1}{6}.\n",
    "\\end{align}\n",
    "The result can be generalized to any number of tosses. Since the sequence of numbers resulted in $n$ tosses is a sequence of independent random variables, then the probability of getting any combination that would not include six pips can be calculated as\n",
    "\\begin{equation}\n",
    "P(S^c|n) = \\left(\\frac{5}{6}\\right)^n.\n",
    "\\end{equation}\n",
    "Hence the probability of getting 6 pips in $n$ tosses at least once can be expressed as \n",
    "\\begin{align}\n",
    "P(S|n) &= 1 - P(S^c|n), \\\\\n",
    "       &= 1 - \\left(\\frac{5}{6}\\right)^n.\n",
    "\\end{align}\n",
    "\n",
    "We can plot the results using the Python language. The results are presented below. As we can see the probability increases along with the number of tosses, quickly converging to unity. The reverse is aslo true. The probability should decrease quickly as we decrease the number the tosses. The results are in line with the common logic. Additionally, the formula is a universal solution for any number of pips. Thus the probability of obtaining at least once any number of pips in $10$ tosses is almost $84\\%$.  "
   ]
  },
  {
   "cell_type": "code",
   "execution_count": 1,
   "metadata": {},
   "outputs": [],
   "source": [
    "#Defining the probability function\n",
    "def at_least_once(n):\n",
    "    return 1 - (5/6)**n"
   ]
  },
  {
   "cell_type": "code",
   "execution_count": 6,
   "metadata": {},
   "outputs": [
    {
     "data": {
      "image/png": "[encoded data removed]",
      "text/plain": [
       "<Figure size 432x288 with 1 Axes>"
      ]
     },
     "metadata": {
      "needs_background": "light"
     },
     "output_type": "display_data"
    }
   ],
   "source": [
    "#Loading libraries\n",
    "import matplotlib.pyplot as plt\n",
    "\n",
    "#Creating a list of probabilities \n",
    "l = [at_least_once(i) for i in range(1,31)]\n",
    "\n",
    "#Creating a plot\n",
    "plt.plot(l)\n",
    "plt.xticks(range(0, len(l)+1, 3))\n",
    "plt.title(\"Probability of Getting Six Pips at Least Once\")\n",
    "plt.xlabel(\"Number of Tosses\")\n",
    "plt.ylabel(\"Probability\")\n",
    "plt.grid()\n",
    "\n",
    "plt.show()"
   ]
  }
 ],
 "metadata": {
  "interpreter": {
   "hash": "916dbcbb3f70747c44a77c7bcd40155683ae19c65e1c03b4aa3499c5328201f1"
  },
  "kernelspec": {
   "display_name": "Python 3.9.7 64-bit",
   "language": "python",
   "name": "python3"
  },
  "language_info": {
   "codemirror_mode": {
    "name": "ipython",
    "version": 3
   },
   "file_extension": ".py",
   "mimetype": "text/x-python",
   "name": "python",
   "nbconvert_exporter": "python",
   "pygments_lexer": "ipython3",
   "version": "3.9.7"
  },
  "orig_nbformat": 4
 },
 "nbformat": 4,
 "nbformat_minor": 2
}
