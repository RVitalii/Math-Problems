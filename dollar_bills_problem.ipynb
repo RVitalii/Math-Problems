{
 "cells": [
  {
   "attachments": {},
   "cell_type": "markdown",
   "metadata": {},
   "source": [
    "# DOLLAR BILLS PROBLEM\n",
    "###### Taken from \"Linear Algebra with Applications 5th Edition\" by Otto Bretscher.\n",
    "\n",
    "# Description\n",
    "I have 32 bills in my wallet, in the denominations of US$ 1, 5, and 10, worth $100 in total. How many do I have of each denomination?\n",
    "\n",
    "# Solution\n",
    "Let a,b,c denote the numbers of bills with denominations 1,5,10 respectively. Then, we could constract a following system of linear equations: \n",
    "\n",
    "\\begin{equation*}\n",
    "\\left\\{\n",
    "\\begin{align*} \n",
    "&a +  b +    c = 32 \\\\ \n",
    "&a + 5b + 10c = 100.\n",
    "\\end{align*}\n",
    " \\right.\n",
    "\\end{equation*}\n",
    "\n",
    "Since we have more variables than equation, then the system is undertermined, so there is no single solutions. We can solve the problem by assuming that one of the variables is in dependent, and the other two are dependent and can be expressed as a multiple of the independent variable. Only in this case we could reduce the system ot one equation, and later determine the coefficients via trial-and-error method. Thus, we may assume the following \n",
    "\n",
    "\\begin{equation*}\n",
    "\\left\\{\n",
    "\\begin{align*} \n",
    "&a = nc, \\\\\n",
    "&b = mc, \\\\\n",
    "&c,n,m \\in \\N.\n",
    "\\end{align*}\n",
    " \\right.\n",
    "\\end{equation*}\n",
    "\n",
    "Note, that c cannot be greater than 9 and lower than 1 for sure, so we don't need much iterations to solve the problem. Thus, we have \n",
    "\n",
    "\\begin{equation*}\n",
    "\\left\\{\n",
    "\\begin{align*} \n",
    "&nc +  mc +    c = 32 \\\\ \n",
    "&nc + 5mc + 10c = 100.\n",
    "\\end{align*}\n",
    " \\right.\n",
    "\\end{equation*}\n",
    "\n",
    "Substracting the top equation from the bottom equation we get,\n",
    "\n",
    "\\begin{equation*}\n",
    "4mc + 9c = 68.\n",
    "\\end{equation*}\n",
    "\n",
    "Now, solving for $m$\n",
    "\n",
    "\\begin{equation*}\n",
    "m = \\frac{68 - 9c}{4c}.\n",
    "\\end{equation*}\n",
    "\n",
    "We can find now such $c$, that would solve the above equation and satisfy the constraints. The solution is $c=4$, $m=2$, $n=5$. Therefore, $a=20$ and $b=8$.  \n",
    "\n",
    "## Generalization\n",
    "We can now generalize the above problem to arbitrary number of the bills ($B$) and their value ($V$). Then the last equation would cahnge to \n",
    "\n",
    "\\begin{equation*}\n",
    "m = \\frac{(V-B) - 9c}{4c}.\n",
    "\\end{equation*}\n",
    "\n",
    "Let's code it."
   ]
  },
  {
   "cell_type": "code",
   "execution_count": 1,
   "metadata": {},
   "outputs": [],
   "source": [
    "def find_bills_count(V, B):\n",
    "    max_iter = V//10\n",
    "    c = 0\n",
    "    \n",
    "    while c < max_iter:\n",
    "        c += 1\n",
    "        \n",
    "        numerator = (V-B) - 9*c\n",
    "        denominator = 4*c\n",
    "        m = numerator / denominator\n",
    "        b = m*c\n",
    "        a = B-b-c\n",
    "\n",
    "        if (numerator % denominator) == 0 and a > 0 and b > 0:\n",
    "            return (int(a), int(b),c)\n",
    "    \n",
    "    return None"
   ]
  },
  {
   "cell_type": "code",
   "execution_count": 5,
   "metadata": {},
   "outputs": [
    {
     "data": {
      "application/vnd.jupyter.widget-view+json": {
       "model_id": "ca4f6d3bd22b4806b70d60d4a533f5a3",
       "version_major": 2,
       "version_minor": 0
      },
      "text/plain": [
       "interactive(children=(IntSlider(value=1000, description='V', max=3000, min=-1000), IntSlider(value=1000, descr…"
      ]
     },
     "metadata": {},
     "output_type": "display_data"
    }
   ],
   "source": [
    "import ipywidgets as widgets\n",
    " \n",
    "@widgets.interact(V=1000, B=1000)\n",
    "def add_roller(V,B):\n",
    "    results = find_bills_count(V,B)\n",
    "    if results is not None:   \n",
    "        return results\n",
    "    else:\n",
    "        return \"There is no solution!\"\n"
   ]
  }
 ],
 "metadata": {
  "kernelspec": {
   "display_name": "Python 3",
   "language": "python",
   "name": "python3"
  },
  "language_info": {
   "codemirror_mode": {
    "name": "ipython",
    "version": 3
   },
   "file_extension": ".py",
   "mimetype": "text/x-python",
   "name": "python",
   "nbconvert_exporter": "python",
   "pygments_lexer": "ipython3",
   "version": "3.10.6"
  },
  "orig_nbformat": 4
 },
 "nbformat": 4,
 "nbformat_minor": 2
}
